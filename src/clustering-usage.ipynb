{
 "cells": [
  {
   "cell_type": "code",
   "execution_count": null,
   "metadata": {},
   "outputs": [],
   "source": [
    "# Import Libraries\n",
    "import pandas as pd\n",
    "import matplotlib.pyplot as plt\n",
    "import numpy as np\n",
    "from scipy.sparse import csr_matrix\n",
    "from mpl_toolkits.axes_grid1 import make_axes_locatable\n",
    "from sklearn.cluster import KMeans\n",
    "from sklearn.metrics import mean_squared_error\n",
    "import itertools\n",
    "from sklearn.metrics import silhouette_samples, silhouette_score\n",
    "from sklearn.impute import SimpleImputer\n",
    "from sklearn.cluster import KMeans\n",
    "from scipy.sparse import csr_matrix\n",
    "%matplotlib inline\n",
    "# Import the Movies dataset\n",
    "movies = pd.read_csv('data/movie.csv')\n",
    "movies.head()"
   ]
  },
  {
   "cell_type": "code",
   "execution_count": null,
   "metadata": {},
   "outputs": [],
   "source": [
    "# Import the ratings dataset\n",
    "ratings = pd.read_csv('data/rating.csv')\n",
    "ratings.head()"
   ]
  },
  {
   "cell_type": "code",
   "execution_count": null,
   "metadata": {},
   "outputs": [],
   "source": [
    "# Function to get the genre ratings\n",
    "def get_genre_ratings(ratings, movies, genres, column_names):\n",
    "    genre_ratings = pd.DataFrame()\n",
    "    for genre in genres:        \n",
    "        genre_movies = movies[movies['genres'].str.contains(genre) ]\n",
    "        avg_genre_votes_per_user = ratings[ratings['movieId'].isin(genre_movies['movieId'])].loc[:, ['userId', 'rating']].groupby(['userId'])['rating'].mean().round(2)\n",
    "        \n",
    "        genre_ratings = pd.concat([genre_ratings, avg_genre_votes_per_user], axis=1)\n",
    "        \n",
    "    genre_ratings.columns = column_names\n",
    "    return genre_ratings\n",
    "# Calculate the average rating of romance and scifi movies\n",
    "genre_ratings = get_genre_ratings(ratings, movies, ['Romance', 'Sci-Fi'], ['avg_romance_rating', 'avg_scifi_rating'])\n",
    "genre_ratings.head()"
   ]
  },
  {
   "cell_type": "code",
   "execution_count": null,
   "metadata": {},
   "outputs": [],
   "source": [
    "# Function to get the biased dataset\n",
    "def bias_genre_rating_dataset(genre_ratings, score_limit_1, score_limit_2):\n",
    "    biased_dataset =    genre_ratings[((genre_ratings['avg_romance_rating'] < score_limit_1 - 0.2) & (genre_ratings['avg_scifi_rating'] > score_limit_2)) | ((genre_ratings['avg_scifi_rating'] < score_limit_1) & (genre_ratings['avg_romance_rating'] > score_limit_2))]\n",
    "    biased_dataset = pd.concat([biased_dataset[:300], genre_ratings[:2]])\n",
    "    biased_dataset = pd.DataFrame(biased_dataset.to_records())\n",
    "    return biased_dataset\n",
    "# Bias the dataset\n",
    "biased_dataset = bias_genre_rating_dataset(genre_ratings, 3.2, 2.5)\n",
    "# Printing the resulting number of records & the head of the dataset\n",
    "print( \"Number of records: \", len(biased_dataset))\n",
    "biased_dataset.head()"
   ]
  },
  {
   "cell_type": "code",
   "execution_count": null,
   "metadata": {},
   "outputs": [],
   "source": [
    "# Defining the scatterplot drawing function\n",
    "def draw_scatterplot(x_data, x_label, y_data, y_label):\n",
    "    fig = plt.figure(figsize=(8,8))\n",
    "    ax = fig.add_subplot(111)\n",
    "    plt.xlim(0, 5)\n",
    "    plt.ylim(0, 5)\n",
    "    ax.set_xlabel(x_label)\n",
    "    ax.set_ylabel(y_label)\n",
    "    ax.scatter(x_data, y_data, s=30)\n",
    "# Plot the scatterplot\n",
    "draw_scatterplot(biased_dataset['avg_scifi_rating'],'Avg scifi rating', biased_dataset['avg_romance_rating'], 'Avg romance rating')"
   ]
  },
  {
   "cell_type": "code",
   "execution_count": null,
   "metadata": {},
   "outputs": [],
   "source": [
    "# Let's turn our dataset into a list\n",
    "X = biased_dataset[['avg_scifi_rating','avg_romance_rating']].values\n",
    "# Import KMeans\n",
    "from sklearn.cluster import KMeans\n",
    "# Create an instance of KMeans to find two clusters\n",
    "kmeans_1 = KMeans(n_clusters=2)\n",
    "# Use fit_predict to cluster the dataset\n",
    "predictions = kmeans_1.fit_predict(X)\n",
    "\n",
    "# Defining the cluster plotting function\n",
    "def draw_clusters(biased_dataset, predictions, cmap='viridis'):\n",
    "    fig = plt.figure(figsize=(8,8))\n",
    "    ax = fig.add_subplot(111)\n",
    "    plt.xlim(0, 5)\n",
    "    plt.ylim(0, 5)\n",
    "    ax.set_xlabel('Avg scifi rating')\n",
    "    ax.set_ylabel('Avg romance rating')\n",
    "    clustered = pd.concat([biased_dataset.reset_index(), pd.DataFrame({'group':predictions})], axis=1)\n",
    "    plt.scatter(clustered['avg_scifi_rating'], clustered['avg_romance_rating'], c=clustered['group'], s=20, cmap=cmap)\n",
    "\n",
    "# Plot\n",
    "draw_clusters(biased_dataset, predictions)"
   ]
  },
  {
   "cell_type": "code",
   "execution_count": null,
   "metadata": {},
   "outputs": [],
   "source": [
    "# Create an instance of KMeans to find three clusters\n",
    "kmeans_2 = KMeans(n_clusters=3)\n",
    "# Use fit_predict to cluster the dataset\n",
    "predictions_2 = kmeans_2.fit_predict(X)\n",
    "# Plot\n",
    "draw_clusters(biased_dataset, predictions_2)"
   ]
  },
  {
   "cell_type": "code",
   "execution_count": null,
   "metadata": {},
   "outputs": [],
   "source": [
    "# Przycinanie tabeli na podstawie popularności filmów\n",
    "# Obliczanie liczby ocen dla każdego filmu\n",
    "movie_counts = ratings['movieId'].value_counts()\n",
    "\n",
    "# Lista najpopularniejszych filmów (np. 1000 najpopularniejszych)\n",
    "top_movies = movie_counts.head(5000) #.index.tolist()\n",
    "\n",
    "# Przycinanie do najpopularniejszych filmów\n",
    "ratings_pruned = ratings[ratings['movieId'].isin(top_movies)]\n"
   ]
  },
  {
   "cell_type": "code",
   "execution_count": null,
   "metadata": {},
   "outputs": [],
   "source": [
    "# Merge the two tables then pivot so we have Users X Movies dataframe\n",
    "ratings_title = pd.merge(ratings_pruned, movies[['movieId', 'title']], on='movieId' )\n",
    "user_movie_ratings = pd.pivot_table(ratings_title, index='userId', columns= 'title', values='rating')\n",
    "# Print he number of dimensions and a subset of the dataset\n",
    "print('dataset dimensions: ', user_movie_ratings.shape, '\\n\\nSubset example:')\n",
    "user_movie_ratings.iloc[:6, :10]"
   ]
  },
  {
   "cell_type": "code",
   "execution_count": null,
   "metadata": {},
   "outputs": [],
   "source": [
    "# Define Function to get the most rated movies\n",
    "def get_most_rated_movies(user_movie_ratings, max_number_of_movies):\n",
    "    # 1- Count\n",
    "    count_series = user_movie_ratings.count()\n",
    "    count_df = pd.DataFrame([count_series.values], columns=count_series.index)\n",
    "    user_movie_ratings_with_count = pd.concat([user_movie_ratings, count_df], ignore_index=True)\n",
    "    \n",
    "    # 2- sort\n",
    "    user_movie_ratings_sorted = user_movie_ratings_with_count.sort_values(len(user_movie_ratings_with_count)-1, axis=1, ascending=False)\n",
    "    user_movie_ratings_sorted = user_movie_ratings_sorted.drop(user_movie_ratings_sorted.tail(1).index)\n",
    "    \n",
    "    # 3- slice\n",
    "    most_rated_movies = user_movie_ratings_sorted.iloc[:, :max_number_of_movies]\n",
    "    \n",
    "    return most_rated_movies\n",
    "\n",
    "def get_users_who_rate_the_most(user_movie_ratings, max_number_of_users):\n",
    "    # 1- Count\n",
    "    user_movie_ratings['total_ratings'] = user_movie_ratings.count(axis=1)\n",
    "    \n",
    "    # 2- Sort\n",
    "    user_movie_ratings_sorted = user_movie_ratings.sort_values(by='total_ratings', ascending=False)\n",
    "    \n",
    "    # 3- Slice\n",
    "    users_who_rate_the_most = user_movie_ratings_sorted.iloc[:max_number_of_users, :-1]  # Exclude 'total_ratings' column\n",
    "    \n",
    "    return users_who_rate_the_most\n",
    "\n",
    "# Define the sorting by rating function\n",
    "def sort_by_rating_density(user_movie_ratings, n_movies, n_users):\n",
    "    most_rated_movies = get_most_rated_movies(user_movie_ratings, n_movies)\n",
    "    most_rated_movies = get_users_who_rate_the_most(most_rated_movies, n_users)\n",
    "    return most_rated_movies"
   ]
  },
  {
   "cell_type": "code",
   "execution_count": null,
   "metadata": {},
   "outputs": [],
   "source": [
    "# Define the sorting by rating function\n",
    "def sort_by_rating_density(user_movie_ratings, n_movies, n_users):\n",
    "    most_rated_movies = get_most_rated_movies(user_movie_ratings, n_movies)\n",
    "    most_rated_movies = get_users_who_rate_the_most(most_rated_movies, n_users)\n",
    "    return most_rated_movies\n",
    "# choose the number of movies and users and sort\n",
    "n_movies = 30\n",
    "n_users = 18\n",
    "most_rated_movies_users_selection = sort_by_rating_density(user_movie_ratings, n_movies, n_users)\n",
    "# Print the result\n",
    "print('dataset dimensions: ', most_rated_movies_users_selection.shape)\n",
    "most_rated_movies_users_selection.head()"
   ]
  },
  {
   "cell_type": "code",
   "execution_count": null,
   "metadata": {},
   "outputs": [],
   "source": [
    "# Define the plotting heatmap function\n",
    "def draw_movies_heatmap(most_rated_movies_users_selection, axis_labels=True):\n",
    "    \n",
    "    fig = plt.figure(figsize=(15,4))\n",
    "    ax = plt.gca()\n",
    "    \n",
    "    # Draw heatmap\n",
    "    heatmap = ax.imshow(most_rated_movies_users_selection,  interpolation='nearest', vmin=0, vmax=5, aspect='auto')\n",
    "    if axis_labels:\n",
    "        ax.set_yticks(np.arange(most_rated_movies_users_selection.shape[0]) , minor=False)\n",
    "        ax.set_xticks(np.arange(most_rated_movies_users_selection.shape[1]) , minor=False)\n",
    "        ax.invert_yaxis()\n",
    "        ax.xaxis.tick_top()\n",
    "        labels = most_rated_movies_users_selection.columns.str[:40]\n",
    "        ax.set_xticklabels(labels, minor=False)\n",
    "        #ax.set_yticklabels(most_rated_movies_users_selection.index, minor=False)\n",
    "        plt.setp(ax.get_xticklabels(), rotation=90)\n",
    "        ax.get_yaxis().set_visible(False)\n",
    "    else:\n",
    "        ax.get_xaxis().set_visible(False)\n",
    "        ax.get_yaxis().set_visible(False)\n",
    "    \n",
    "    ax.grid(False)\n",
    "    ax.set_ylabel('User id')\n",
    "# Separate heatmap from color bar\n",
    "    divider = make_axes_locatable(ax)\n",
    "    cax = divider.append_axes(\"right\", size=\"5%\", pad=0.05)\n",
    "# Color bar\n",
    "    cbar = fig.colorbar(heatmap, ticks=[5, 4, 3, 2, 1, 0], cax=cax)\n",
    "    cbar.ax.set_yticklabels(['5 stars', '4 stars','3 stars','2 stars','1 stars','0 stars'])\n",
    "plt.show()\n",
    "# Print the heatmap\n",
    "draw_movies_heatmap(most_rated_movies_users_selection)"
   ]
  },
  {
   "cell_type": "code",
   "execution_count": null,
   "metadata": {},
   "outputs": [],
   "source": [
    "# Pivot the dataset and choose the first 1000 movies\n",
    "user_movie_ratings =  pd.pivot_table(ratings_title, index='userId', columns= 'title', values='rating')\n",
    "print(user_movie_ratings.shape)\n",
    "most_rated_movies_1k = get_most_rated_movies(user_movie_ratings, 1000)"
   ]
  },
  {
   "cell_type": "code",
   "execution_count": null,
   "metadata": {},
   "outputs": [],
   "source": [
    "type(most_rated_movies_1k)"
   ]
  },
  {
   "cell_type": "code",
   "execution_count": null,
   "metadata": {},
   "outputs": [],
   "source": [
    "most_rated_movies_1k"
   ]
  },
  {
   "cell_type": "code",
   "execution_count": null,
   "metadata": {},
   "outputs": [],
   "source": [
    "# Conversion to sparse csr matrix\n",
    "#sparse_ratings = csr_matrix(pd.SparseDataFrame(most_rated_movies_1k).to_coo())\n",
    "sparse_ratings = csr_matrix(most_rated_movies_1k)"
   ]
  },
  {
   "cell_type": "code",
   "execution_count": null,
   "metadata": {},
   "outputs": [],
   "source": [
    "sparse_ratings"
   ]
  },
  {
   "cell_type": "code",
   "execution_count": null,
   "metadata": {},
   "outputs": [],
   "source": [
    "# Impute NaN values with mean\n",
    "imputer = SimpleImputer(strategy='mean')\n",
    "sparse_ratings_imputed = imputer.fit_transform(sparse_ratings)"
   ]
  },
  {
   "cell_type": "code",
   "execution_count": null,
   "metadata": {},
   "outputs": [],
   "source": [
    "print(sparse_ratings_imputed) # NaN zastąpiliśmy średnią oceną dla danego filmu"
   ]
  },
  {
   "cell_type": "code",
   "execution_count": null,
   "metadata": {},
   "outputs": [],
   "source": [
    "class KMeansClustering:\n",
    "    def __init__(self, X, num_clusters):\n",
    "        self.K = num_clusters\n",
    "        self.max_iterations = 100\n",
    "        self.num_examples = X.shape[0]\n",
    "        self.num_features = X.shape[1]\n",
    "\n",
    "    def initialize_random_centroids(self, X):\n",
    "        centroids = np.zeros((self.K, self.num_features))\n",
    "\n",
    "        for k in range(self.K):\n",
    "            centroid = X[np.random.choice(range(self.num_examples))]\n",
    "            centroids[k] = centroid\n",
    "\n",
    "        return centroids\n",
    "\n",
    "    def create_clusters(self, X, centroids):\n",
    "        # Will contain a list of the points that are associated with that specific cluster\n",
    "        clusters = [[] for _ in range(self.K)]\n",
    "\n",
    "        # Loop through each point and check which is the closest cluster\n",
    "        for point_idx, point in enumerate(X):\n",
    "            closest_centroid = np.argmin(\n",
    "                np.sqrt(np.sum((point - centroids) ** 2, axis=1))\n",
    "            )\n",
    "            clusters[closest_centroid].append(point_idx)\n",
    "\n",
    "        return clusters\n",
    "\n",
    "    def calculate_new_centroids(self, clusters, X):\n",
    "        centroids = np.zeros((self.K, self.num_features))\n",
    "        for idx, cluster in enumerate(clusters):\n",
    "            new_centroid = np.mean(X[cluster], axis=0)\n",
    "            centroids[idx] = new_centroid\n",
    "\n",
    "        return centroids\n",
    "\n",
    "    def predict_cluster(self, clusters, X):\n",
    "        y_pred = np.zeros(self.num_examples)\n",
    "\n",
    "        for cluster_idx, cluster in enumerate(clusters):\n",
    "            for sample_idx in cluster:\n",
    "                y_pred[sample_idx] = cluster_idx\n",
    "\n",
    "        return y_pred\n",
    "\n",
    "    def plot_fig(self, X, y):\n",
    "        plt.scatter(X[:, 0], X[:, 1], c=y, s=40, cmap=plt.cm.Spectral)\n",
    "        plt.show()\n",
    "\n",
    "    def fit(self, X):\n",
    "        centroids = self.initialize_random_centroids(X)\n",
    "\n",
    "        for it in range(self.max_iterations):\n",
    "            clusters = self.create_clusters(X, centroids)\n",
    "\n",
    "            previous_centroids = centroids\n",
    "            centroids = self.calculate_new_centroids(clusters, X)\n",
    "\n",
    "            diff = centroids - previous_centroids\n",
    "\n",
    "            if not diff.any():\n",
    "                print(\"Termination criterion satisfied\")\n",
    "                break\n",
    "\n",
    "        # Get label predictions\n",
    "        y_pred = self.predict_cluster(clusters, X)\n",
    "\n",
    "        return y_pred"
   ]
  },
  {
   "cell_type": "code",
   "execution_count": null,
   "metadata": {},
   "outputs": [],
   "source": [
    "most_rated_movies_1k_small = get_users_who_rate_the_most(most_rated_movies_1k, 10000)\n",
    "imputer = SimpleImputer(strategy='mean')\n",
    "small_imputed = imputer.fit_transform(most_rated_movies_1k_small)\n",
    "small = pd.DataFrame(small_imputed)\n",
    "small = pd.DataFrame(small_imputed, columns=most_rated_movies_1k_small.columns)\n",
    "selected_rows = small.index[:10000]\n",
    "selected_columns = small.columns[:1000]\n",
    "\n",
    "small = small.loc[selected_rows, selected_columns]\n",
    "\n",
    "small\n"
   ]
  },
  {
   "cell_type": "code",
   "execution_count": null,
   "metadata": {},
   "outputs": [],
   "source": [
    "num_clusters = 7\n",
    "X = small.values\n",
    "Kmeans = KMeansClustering(X, num_clusters)\n",
    "y_pred = Kmeans.fit(X)\n",
    "y_pred"
   ]
  },
  {
   "cell_type": "code",
   "execution_count": null,
   "metadata": {},
   "outputs": [],
   "source": [
    "# Dodaj nową kolumnę do small z przypisanymi grupami\n",
    "small['group'] = y_pred\n",
    "small"
   ]
  },
  {
   "cell_type": "code",
   "execution_count": null,
   "metadata": {},
   "outputs": [],
   "source": [
    "# Funkcja do narysowania heatmap dla wszystkich grup\n",
    "def draw_heatmaps_for_groups(clustered, n_movies, n_users):\n",
    "    unique_groups = clustered['group'].unique()\n",
    "    \n",
    "    for group in unique_groups:\n",
    "        # Wybierz grupę\n",
    "        group_data = clustered[clustered['group'] == group].copy()  # Użyj .copy() tutaj\n",
    "        \n",
    "        # Usuń niepotrzebne kolumny i posortuj dane\n",
    "        selected_data = group_data.drop(columns=['group'])\n",
    "        selected_data = selected_data.head(n_users)\n",
    "        selected_data = selected_data.iloc[:, :n_movies]\n",
    "        \n",
    "        # Narysuj heatmapę\n",
    "        draw_movies_heatmap(selected_data)\n",
    "        plt.title(f'Heatmap dla grupy {group}')\n",
    "        plt.show()\n",
    "\n",
    "# Użyj funkcji\n",
    "draw_heatmaps_for_groups(small, 40, 30)\n"
   ]
  },
  {
   "cell_type": "code",
   "execution_count": null,
   "metadata": {},
   "outputs": [],
   "source": [
    "# 12 clusters\n",
    "predictions = KMeans(n_clusters=12).fit_predict(sparse_ratings_imputed)"
   ]
  },
  {
   "cell_type": "code",
   "execution_count": null,
   "metadata": {},
   "outputs": [],
   "source": [
    "def draw_movie_clusters(clustered, max_users, max_movies):\n",
    "    n_clusters = clustered['group'].nunique()\n",
    "    \n",
    "    # Create a figure and subplots\n",
    "    fig, axes = plt.subplots(n_clusters, 1, figsize=(20, 4 * n_clusters))\n",
    "    \n",
    "    # Iterate over clusters and draw heatmap\n",
    "    for i, (group_idx, group) in enumerate(clustered.groupby('group')):\n",
    "        most_rated_movies_users_selection = group.drop(columns=['group']).reset_index(drop=True)\n",
    "        ax = axes[i]\n",
    "        draw_movies_heatmap(most_rated_movies_users_selection, ax)\n",
    "        ax.set_title(f\"Cluster {i}\")\n",
    "    \n",
    "    plt.tight_layout()\n",
    "    plt.show()"
   ]
  },
  {
   "cell_type": "code",
   "execution_count": null,
   "metadata": {},
   "outputs": [],
   "source": [
    "# Select the mas number of users and movies heatmap cluster\n",
    "max_users = 70\n",
    "max_movies = 50\n",
    "# Cluster and print some of them\n",
    "clustered = pd.concat([most_rated_movies_1k.reset_index(), pd.DataFrame({'group':predictions})], axis=1)"
   ]
  },
  {
   "cell_type": "code",
   "execution_count": null,
   "metadata": {},
   "outputs": [],
   "source": [
    "clustered"
   ]
  },
  {
   "cell_type": "code",
   "execution_count": null,
   "metadata": {},
   "outputs": [],
   "source": [
    "# W grupie 8 jest 309 osób \n",
    "group8 = clustered[clustered[\"group\"] == 8]"
   ]
  },
  {
   "cell_type": "code",
   "execution_count": null,
   "metadata": {},
   "outputs": [],
   "source": [
    "# Wyświetlenie wszystkiego na raz nie jest szczególnie czytelne. \n",
    "draw_movies_heatmap(group8)"
   ]
  },
  {
   "cell_type": "code",
   "execution_count": null,
   "metadata": {},
   "outputs": [],
   "source": [
    "# Należy ograniczyć do użytkowników, którzy dali najwięcej opinii i filmów, które były najczęściej oceniane w tej grupie \n",
    "wybrane = group8.drop(columns = ['group', 'index'])\n",
    "wybrane = sort_by_rating_density(wybrane, 20, 50)"
   ]
  },
  {
   "cell_type": "code",
   "execution_count": null,
   "metadata": {},
   "outputs": [],
   "source": [
    "draw_movies_heatmap(wybrane)"
   ]
  },
  {
   "cell_type": "markdown",
   "metadata": {},
   "source": [
    "## Wnioski z otrzymanej heatmapy\n",
    "Podobieństwo kolorów w kolumnach wskazuje na podobieństwo gustów użytkowników. Widać wyraźnie że użytkownikom z grupy 8 nie podobał się film \"Independence day\" za to wszystkim wyraźnie podobał się film \"Pulp Fiction\"\n",
    "Porównajmy to jeszcze z inną grupą"
   ]
  },
  {
   "cell_type": "code",
   "execution_count": null,
   "metadata": {},
   "outputs": [],
   "source": [
    "group12 = clustered[clustered[\"group\"] == 12]\n",
    "wybrane12 = group12.drop(columns = ['group', 'index'])\n",
    "wybrane12 = sort_by_rating_density(wybrane12, 20, 50)\n",
    "draw_movies_heatmap(wybrane12)"
   ]
  },
  {
   "cell_type": "code",
   "execution_count": null,
   "metadata": {},
   "outputs": [],
   "source": [
    "group14 = clustered[clustered[\"group\"] == 14]\n",
    "wybrane14 = group14.drop(columns = ['group', 'index'])\n",
    "wybrane14 = sort_by_rating_density(wybrane14, 20, 50)\n",
    "draw_movies_heatmap(wybrane14)"
   ]
  },
  {
   "cell_type": "markdown",
   "metadata": {},
   "source": [
    "## Wnioski z trzech heatmap\n",
    "Grupa 14 zdaje się być użytkownikami, ktorzy generalnie lepiej oceniają obejrzane filmy. Independence day to słaby film"
   ]
  },
  {
   "cell_type": "code",
   "execution_count": null,
   "metadata": {},
   "outputs": [],
   "source": [
    "# Zmieniam tą funkcję, żeby każda heatmapa miała kolumny w takiej samej kolejności, wtedy łatwiej znaleźć różnice między grupami\n",
    "\n",
    "def sort_by_rating_density_changed(user_movie_ratings, n_movies, n_users, popularne_filmy):\n",
    "    tylko_popularne_filmy = user_movie_ratings[popularne_filmy.columns].copy()  # Użyj .copy() tutaj\n",
    "    gesta_czesc = get_users_who_rate_the_most(tylko_popularne_filmy, n_users)\n",
    "    return gesta_czesc"
   ]
  },
  {
   "cell_type": "code",
   "execution_count": null,
   "metadata": {},
   "outputs": [],
   "source": [
    "# Funkcja do narysowania heatmap dla wszystkich grup\n",
    "def draw_heatmaps_for_groups(clustered, n_movies, n_users, most_rated_movies_1k):\n",
    "    unique_groups = clustered['group'].unique()\n",
    "\n",
    "    popularne_filmy = get_most_rated_movies(most_rated_movies_1k, n_movies)\n",
    "    \n",
    "    for group in unique_groups:\n",
    "        # Wybierz grupę\n",
    "        group_data = clustered[clustered['group'] == group].copy()  # Użyj .copy() tutaj\n",
    "        \n",
    "        # Usuń niepotrzebne kolumny i posortuj dane\n",
    "        selected_data = group_data.drop(columns=['group', 'index'])\n",
    "        selected_data = sort_by_rating_density_changed(selected_data, n_movies, n_users, popularne_filmy)\n",
    "        \n",
    "        # Narysuj heatmapę\n",
    "        draw_movies_heatmap(selected_data)\n",
    "        plt.title(f'Heatmap dla grupy {group}')\n",
    "        plt.show()\n",
    "\n",
    "        # Oblicz średnie oceny dla pierwszych filmów w grupie\n",
    "        mean_ratings = selected_data[popularne_filmy.columns].mean()\n",
    "        \n",
    "        # # Wyświetl tabelę ze średnimi ocenami\n",
    "        # print(\"\\nŚrednie oceny dla pierwszych filmów w grupie:\")\n",
    "        # display(mean_ratings.to_frame().transpose())  # Wyświetl jako tabelę DataFrame\n",
    "        # print(\"\\n\" + \"-\"*40 + \"\\n\")  # Separator\n",
    "\n",
    "\n",
    "# Użyj funkcji\n",
    "draw_heatmaps_for_groups(clustered, 40, 70, most_rated_movies_1k)\n"
   ]
  },
  {
   "cell_type": "code",
   "execution_count": null,
   "metadata": {},
   "outputs": [],
   "source": [
    "def get_mean_ratings_for_groups(clustered, n_movies, n_users, most_rated_movies_1k):\n",
    "    unique_groups = clustered['group'].unique()\n",
    "    popularne_filmy = get_most_rated_movies(most_rated_movies_1k, n_movies)\n",
    "    \n",
    "    mean_ratings_list = []\n",
    "    user_counts_list = []\n",
    "    \n",
    "    for group in unique_groups:\n",
    "        # Wybierz grupę\n",
    "        group_data = clustered[clustered['group'] == group].copy()\n",
    "        \n",
    "        # Usuń niepotrzebne kolumny i posortuj dane\n",
    "        selected_data = group_data.drop(columns=['group', 'index'])\n",
    "        #selected_data = sort_by_rating_density_changed(selected_data, n_movies, n_users, popularne_filmy)\n",
    "        \n",
    "        # Oblicz średnie oceny dla wybranych filmów w grupie\n",
    "        mean_ratings = selected_data[popularne_filmy.columns].mean()\n",
    "        \n",
    "        mean_ratings_list.append(mean_ratings)\n",
    "        \n",
    "        # Oblicz liczbę użytkowników w grupie\n",
    "        user_count = selected_data.shape[0]  # liczba wierszy to liczba użytkowników\n",
    "        user_counts_list.append(user_count)\n",
    "    \n",
    "    # Tworzenie DataFrame z listy średnich ocen i liczby użytkowników\n",
    "    mean_ratings_df = pd.DataFrame(mean_ratings_list, index=unique_groups)\n",
    "    mean_ratings_df['user_count'] = user_counts_list\n",
    "    \n",
    "    return mean_ratings_df\n",
    "\n",
    "# Użyj funkcji\n",
    "mean_ratings_df = get_mean_ratings_for_groups(clustered, 40, 70, most_rated_movies_1k)\n",
    "mean_ratings_df = mean_ratings_df[mean_ratings_df['user_count'] > 20]\n",
    "mean_ratings_df\n"
   ]
  },
  {
   "cell_type": "code",
   "execution_count": null,
   "metadata": {},
   "outputs": [],
   "source": [
    "# Przedstawienie średnich dla grup heatmapą\n",
    "draw_movies_heatmap(mean_ratings_df)"
   ]
  },
  {
   "cell_type": "code",
   "execution_count": null,
   "metadata": {},
   "outputs": [],
   "source": [
    "# Przycinanie tabeli na podstawie popularności filmów\n",
    "# Obliczanie liczby ocen dla każdego filmu\n",
    "movie_counts = ratings['movieId'].value_counts()\n",
    "\n",
    "# Lista najpopularniejszych filmów (np. 1000 najpopularniejszych)\n",
    "top_movies = movie_counts.head(5000) #.index.tolist()\n",
    "\n",
    "# Przycinanie do najpopularniejszych filmów\n",
    "ratings_pruned = ratings[ratings['movieId'].isin(top_movies)]\n",
    "\n",
    "# Merge the two tables then pivot so we have Users X Movies dataframe\n",
    "ratings_title = pd.merge(ratings_pruned, movies[['movieId', 'title']], on='movieId' )\n",
    "user_movie_ratings = pd.pivot_table(ratings_title, index='userId', columns= 'title', values='rating')\n",
    "most_rated_movies_1k = get_most_rated_movies(user_movie_ratings, 1000)\n",
    "\n",
    "most_rated_movies_1k_small = get_users_who_rate_the_most(most_rated_movies_1k, 10000)\n",
    "imputer = SimpleImputer(strategy='mean')\n",
    "small_imputed = imputer.fit_transform(most_rated_movies_1k_small)\n",
    "\n",
    "\n",
    "# small = pd.DataFrame(small_imputed)\n",
    "small = pd.DataFrame(small_imputed, columns=most_rated_movies_1k_small.columns)\n",
    "selected_rows = small.index[:10000]\n",
    "selected_columns = small.columns[:1000]\n",
    "\n",
    "small = small.loc[selected_rows, selected_columns]\n",
    "\n",
    "num_clusters = 7\n",
    "X = small.values\n",
    "\n",
    "# Tutaj dzieje się cała magia\n",
    "Kmeans = KMeansClustering(X, num_clusters)\n",
    "y_pred = Kmeans.fit(X)\n",
    "\n",
    "# Dodaj nową kolumnę do small z przypisanymi grupami\n",
    "small['group'] = y_pred\n",
    "\n",
    "small\n",
    "# Teraz dla wybranego użytkownika trzeba określić jego grupę"
   ]
  },
  {
   "cell_type": "code",
   "execution_count": null,
   "metadata": {},
   "outputs": [],
   "source": [
    "# Weźmy użytkownika id = 0\n",
    "user_row = small[small.iloc[:, 0] == 0]\n",
    "grupa_zerowego =  user_row['group'].iloc[0]\n",
    "grupa_zerowego"
   ]
  },
  {
   "cell_type": "code",
   "execution_count": null,
   "metadata": {},
   "outputs": [],
   "source": [
    "user_id = 0\n",
    "group = small.loc[small['title'] == user_id, 'group'].iloc[0]\n",
    "group"
   ]
  },
  {
   "cell_type": "code",
   "execution_count": null,
   "metadata": {},
   "outputs": [],
   "source": [
    "small['Jurassic Park (1993)']"
   ]
  },
  {
   "cell_type": "code",
   "execution_count": null,
   "metadata": {},
   "outputs": [],
   "source": [
    "# Przycinanie tabeli na podstawie popularności filmów\n",
    "# Obliczanie liczby ocen dla każdego filmu\n",
    "movie_counts = ratings['movieId'].value_counts()\n",
    "\n",
    "# Lista najpopularniejszych filmów (np. 1000 najpopularniejszych)\n",
    "top_movies = movie_counts.head(5000) #.index.tolist()\n",
    "\n",
    "# Przycinanie do najpopularniejszych filmów\n",
    "ratings_pruned = ratings[ratings['movieId'].isin(top_movies)]\n",
    "\n",
    "# Merge the two tables then pivot so we have Users X Movies dataframe\n",
    "ratings_title = pd.merge(ratings_pruned, movies[['movieId', 'title']], on='movieId' )\n",
    "user_movie_ratings = pd.pivot_table(ratings_title, index='userId', columns= 'title', values='rating')\n",
    "most_rated_movies_1k = get_most_rated_movies(user_movie_ratings, 1000)\n",
    "\n",
    "most_rated_movies_1k_small = get_users_who_rate_the_most(most_rated_movies_1k, 10000)\n",
    "\n",
    "imputer = SimpleImputer(strategy='mean')\n",
    "small_imputed = imputer.fit_transform(most_rated_movies_1k_small)\n",
    "\n",
    "small = pd.DataFrame(small_imputed, columns=most_rated_movies_1k_small.columns)\n",
    "selected_rows = small.index[:10000]\n",
    "selected_columns = small.columns[:1000]\n",
    "\n",
    "small = small.loc[selected_rows, selected_columns]\n",
    "small\n",
    "\n",
    "num_clusters = 7\n",
    "X = small.values\n",
    "\n",
    "# Tutaj dzieje się cała magia\n",
    "Kmeans = KMeansClustering(X, num_clusters)\n",
    "y_pred = Kmeans.fit(X)\n",
    "\n",
    "# Dodaj nową kolumnę do small z przypisanymi grupami\n",
    "# small['group'] = y_pred\n",
    "small.insert(0, 'userId', most_rated_movies_1k_small.index)\n",
    "small.insert(1, 'group', y_pred)\n",
    "\n",
    "small"
   ]
  },
  {
   "cell_type": "code",
   "execution_count": null,
   "metadata": {},
   "outputs": [],
   "source": [
    "# Teraz dla wybranego użytkownika trzeba określić jego grupę\n",
    "user_id = 902\n",
    "user_row = small.loc[small['userId'] == user_id]\n",
    "\n",
    "# Sprawdź wartość w kolumnie 'group' dla wybranego użytkownika\n",
    "user_group = user_row['group'].values[0]\n",
    "user_group"
   ]
  },
  {
   "cell_type": "code",
   "execution_count": null,
   "metadata": {},
   "outputs": [],
   "source": [
    "cluster_number = 1\n",
    "cluster = small[small.group == cluster_number].drop(['group'], axis=1)\n",
    "cluster"
   ]
  },
  {
   "cell_type": "code",
   "execution_count": null,
   "metadata": {},
   "outputs": [],
   "source": [
    "# Get all this user's ratings\n",
    "user_id = 23\n",
    "user_2_ratings  = most_rated_movies_1k_small.loc[user_id, :]\n",
    "\n",
    "# Which movies did they not rate? \n",
    "user_2_unrated_movies =  user_2_ratings[user_2_ratings.isnull()]\n",
    "# What are the ratings of these movies the user did not rate?\n",
    "avg_ratings = pd.concat([user_2_unrated_movies, cluster.mean()], axis=1, join='inner').loc[:,0]\n",
    "# Let's sort by rating so the highest rated movies are presented first\n",
    "avg_ratings.sort_values(ascending=False)[:20]"
   ]
  }
 ],
 "metadata": {
  "kernelspec": {
   "display_name": "Python 3",
   "language": "python",
   "name": "python3"
  },
  "language_info": {
   "codemirror_mode": {
    "name": "ipython",
    "version": 3
   },
   "file_extension": ".py",
   "mimetype": "text/x-python",
   "name": "python",
   "nbconvert_exporter": "python",
   "pygments_lexer": "ipython3",
   "version": "3.11.5"
  }
 },
 "nbformat": 4,
 "nbformat_minor": 2
}

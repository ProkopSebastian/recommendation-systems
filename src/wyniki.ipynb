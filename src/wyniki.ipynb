{
 "cells": [
  {
   "cell_type": "markdown",
   "metadata": {},
   "source": [
    "## Przedstawienie wyników różnych algorytmów poleceń dla wybranego użytkownika"
   ]
  },
  {
   "cell_type": "code",
   "execution_count": 1,
   "metadata": {},
   "outputs": [],
   "source": [
    "import pandas as pd\n",
    "import clustering as cl\n",
    "import knn as knn_alg"
   ]
  },
  {
   "cell_type": "code",
   "execution_count": 2,
   "metadata": {},
   "outputs": [],
   "source": [
    "# Import datasetu\n",
    "movies = pd.read_csv('data/movie.csv')\n",
    "ratings = pd.read_csv('data/rating.csv')"
   ]
  },
  {
   "cell_type": "code",
   "execution_count": 3,
   "metadata": {},
   "outputs": [],
   "source": [
    "# wybór użytkownika, dla którego będziemy polecać filmy, oraz ile filmów chcemy wyświetlić\n",
    "user_id = 23\n",
    "number_of_movies = 10"
   ]
  },
  {
   "cell_type": "markdown",
   "metadata": {},
   "source": [
    "## Metoda klasteryzacji algorytmem k-średnich"
   ]
  },
  {
   "cell_type": "code",
   "execution_count": 4,
   "metadata": {},
   "outputs": [
    {
     "name": "stdout",
     "output_type": "stream",
     "text": [
      "Termination criterion satisfied\n"
     ]
    },
    {
     "data": {
      "text/plain": [
       "True"
      ]
     },
     "execution_count": 4,
     "metadata": {},
     "output_type": "execute_result"
    }
   ],
   "source": [
    "# Tworzenie klastrów może zająć do około minuty\n",
    "RS = cl.SystemRekomendacji(ratings, movies)\n",
    "RS.prepare_clusters()"
   ]
  },
  {
   "cell_type": "code",
   "execution_count": 5,
   "metadata": {},
   "outputs": [
    {
     "data": {
      "text/html": [
       "<div>\n",
       "<style scoped>\n",
       "    .dataframe tbody tr th:only-of-type {\n",
       "        vertical-align: middle;\n",
       "    }\n",
       "\n",
       "    .dataframe tbody tr th {\n",
       "        vertical-align: top;\n",
       "    }\n",
       "\n",
       "    .dataframe thead th {\n",
       "        text-align: right;\n",
       "    }\n",
       "</style>\n",
       "<table border=\"1\" class=\"dataframe\">\n",
       "  <thead>\n",
       "    <tr style=\"text-align: right;\">\n",
       "      <th></th>\n",
       "      <th>title</th>\n",
       "    </tr>\n",
       "  </thead>\n",
       "  <tbody>\n",
       "    <tr>\n",
       "      <th>0</th>\n",
       "      <td>Godfather, The (1972)</td>\n",
       "    </tr>\n",
       "    <tr>\n",
       "      <th>1</th>\n",
       "      <td>Sunset Blvd. (a.k.a. Sunset Boulevard) (1950)</td>\n",
       "    </tr>\n",
       "    <tr>\n",
       "      <th>2</th>\n",
       "      <td>Paths of Glory (1957)</td>\n",
       "    </tr>\n",
       "    <tr>\n",
       "      <th>3</th>\n",
       "      <td>Casablanca (1942)</td>\n",
       "    </tr>\n",
       "    <tr>\n",
       "      <th>4</th>\n",
       "      <td>Third Man, The (1949)</td>\n",
       "    </tr>\n",
       "    <tr>\n",
       "      <th>5</th>\n",
       "      <td>Rear Window (1954)</td>\n",
       "    </tr>\n",
       "    <tr>\n",
       "      <th>6</th>\n",
       "      <td>Godfather: Part II, The (1974)</td>\n",
       "    </tr>\n",
       "    <tr>\n",
       "      <th>7</th>\n",
       "      <td>12 Angry Men (1957)</td>\n",
       "    </tr>\n",
       "    <tr>\n",
       "      <th>8</th>\n",
       "      <td>City Lights (1931)</td>\n",
       "    </tr>\n",
       "    <tr>\n",
       "      <th>9</th>\n",
       "      <td>Wallace &amp; Gromit: The Best of Aardman Animatio...</td>\n",
       "    </tr>\n",
       "  </tbody>\n",
       "</table>\n",
       "</div>"
      ],
      "text/plain": [
       "                                               title\n",
       "0                              Godfather, The (1972)\n",
       "1      Sunset Blvd. (a.k.a. Sunset Boulevard) (1950)\n",
       "2                              Paths of Glory (1957)\n",
       "3                                  Casablanca (1942)\n",
       "4                              Third Man, The (1949)\n",
       "5                                 Rear Window (1954)\n",
       "6                     Godfather: Part II, The (1974)\n",
       "7                                12 Angry Men (1957)\n",
       "8                                 City Lights (1931)\n",
       "9  Wallace & Gromit: The Best of Aardman Animatio..."
      ]
     },
     "execution_count": 5,
     "metadata": {},
     "output_type": "execute_result"
    }
   ],
   "source": [
    "recommended_movies = RS.recommend_movies(number_of_movies, user_id)\n",
    "recommended_movies"
   ]
  },
  {
   "cell_type": "markdown",
   "metadata": {},
   "source": [
    "## KNN - k Nearest Neighbors"
   ]
  },
  {
   "cell_type": "code",
   "execution_count": 7,
   "metadata": {},
   "outputs": [
    {
     "name": "stdout",
     "output_type": "stream",
     "text": [
      "Maximum rating for user 23 : 5.0\n",
      "Movies with the maximum rating: [32, 47, 50, 223, 293, 296, 318, 508, 527, 535, 555, 608, 678, 778, 1047, 1059, 1060, 1089, 1095, 1111, 1188, 1249, 1358, 1500, 1527, 1580, 1584, 1617, 1653, 1704, 1754, 1805, 1833, 1835, 1909, 2006, 2028, 2058, 2294, 2324, 2952]\n",
      "\n",
      "For movie Movie ID: 32, Title: Twelve Monkeys (a.k.a. 12 Monkeys) (1995), the 10 nearest neighbors are:\n",
      "- Movie ID: 780, Title: Independence Day (a.k.a. ID4) (1996) with similarity 0.54\n",
      "____________________________________________________________________\n",
      "- Movie ID: 260, Title: Star Wars: Episode IV - A New Hope (1977) with similarity 0.53\n",
      "____________________________________________________________________\n",
      "- Movie ID: 480, Title: Jurassic Park (1993) with similarity 0.52\n",
      "____________________________________________________________________\n",
      "- Movie ID: 648, Title: Mission: Impossible (1996) with similarity 0.52\n",
      "____________________________________________________________________\n",
      "- Movie ID: 1210, Title: Star Wars: Episode VI - Return of the Jedi (1983) with similarity 0.51\n",
      "____________________________________________________________________\n",
      "- Movie ID: 541, Title: Blade Runner (1982) with similarity 0.50\n",
      "____________________________________________________________________\n",
      "- Movie ID: 1240, Title: Terminator, The (1984) with similarity 0.50\n",
      "____________________________________________________________________\n",
      "- Movie ID: 2571, Title: Matrix, The (1999) with similarity 0.50\n",
      "____________________________________________________________________\n",
      "- Movie ID: 1214, Title: Alien (1979) with similarity 0.50\n",
      "____________________________________________________________________\n",
      "- Movie ID: 1196, Title: Star Wars: Episode V - The Empire Strikes Back (1980) with similarity 0.49\n",
      "____________________________________________________________________\n"
     ]
    }
   ],
   "source": [
    "movie_recommender = knn_alg.MovieRecommender(movies, ratings)\n",
    "movie_recommender.recommend_movies(user_id, number_of_movies, False)"
   ]
  },
  {
   "cell_type": "markdown",
   "metadata": {},
   "source": [
    "## Metoda 3"
   ]
  },
  {
   "cell_type": "code",
   "execution_count": 8,
   "metadata": {},
   "outputs": [],
   "source": [
    "# kod"
   ]
  },
  {
   "cell_type": "markdown",
   "metadata": {},
   "source": [
    "## Porównanie zwróconych wyników"
   ]
  },
  {
   "cell_type": "code",
   "execution_count": 9,
   "metadata": {},
   "outputs": [],
   "source": [
    "# Łączymy ramki danych na podstawie tytułów filmów\n",
    "merged_df = pd.merge(movies, recommended_movies, on='title', how='inner')\n",
    "\n",
    "# Grupujemy po gatunkach i liczymy wystąpienia każdego gatunku\n",
    "genres_counts = movies[movies['title'].isin(merged_df['title'])]['genres'].str.split('|', expand=True).stack().value_counts()"
   ]
  },
  {
   "cell_type": "code",
   "execution_count": 10,
   "metadata": {},
   "outputs": [
    {
     "data": {
      "image/png": "[encoded data removed]",
      "text/plain": [
       "<Figure size 1000x600 with 1 Axes>"
      ]
     },
     "metadata": {},
     "output_type": "display_data"
    }
   ],
   "source": [
    "import matplotlib.pyplot as plt\n",
    "# Tworzymy wykres słupkowy\n",
    "plt.figure(figsize=(10, 6))\n",
    "plt.bar(genres_counts.keys(), genres_counts.values, color='skyblue')\n",
    "plt.xlabel('Gatunki filmów')\n",
    "plt.ylabel('Liczba wystąpień')\n",
    "plt.title('Najczęściej występujące gatunki filmów')\n",
    "plt.xticks(rotation=45, ha='right')\n",
    "plt.tight_layout()\n",
    "plt.show()"
   ]
  }
 ],
 "metadata": {
  "kernelspec": {
   "display_name": "Python 3",
   "language": "python",
   "name": "python3"
  },
  "language_info": {
   "codemirror_mode": {
    "name": "ipython",
    "version": 3
   },
   "file_extension": ".py",
   "mimetype": "text/x-python",
   "name": "python",
   "nbconvert_exporter": "python",
   "pygments_lexer": "ipython3",
   "version": "3.11.0"
  }
 },
 "nbformat": 4,
 "nbformat_minor": 2
}

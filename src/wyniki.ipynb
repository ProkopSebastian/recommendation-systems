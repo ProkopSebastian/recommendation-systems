{
 "cells": [
  {
   "cell_type": "markdown",
   "metadata": {},
   "source": [
    "## Przedstawienie wyników różnych algorytmów poleceń dla wybranego użytkownika"
   ]
  },
  {
   "cell_type": "code",
   "execution_count": 1,
   "metadata": {},
   "outputs": [],
   "source": [
    "# Jeśli będą porzebne to można odkomentować\n",
    "\n",
    "# # imports \n",
    "# import pandas as pd\n",
    "# movies = pd.read_csv('data/movie.csv')\n",
    "# ratings = pd.read_csv('data/rating.csv')"
   ]
  },
  {
   "cell_type": "code",
   "execution_count": 2,
   "metadata": {},
   "outputs": [],
   "source": [
    "# wybór użytkownika, dla którego będziemy polecać filmy, oraz ile filmów chcemy wyświetlić\n",
    "user_id = 23\n",
    "number_of_movies = 10"
   ]
  },
  {
   "cell_type": "markdown",
   "metadata": {},
   "source": [
    "## Metoda klasteryzacji algorytmem k-średnich"
   ]
  },
  {
   "cell_type": "code",
   "execution_count": 3,
   "metadata": {},
   "outputs": [
    {
     "name": "stdout",
     "output_type": "stream",
     "text": [
      "Termination criterion satisfied\n",
      "                                               title\n",
      "0  Raiders of the Lost Ark (Indiana Jones and the...\n",
      "1                              Godfather, The (1972)\n",
      "2                            Schindler's List (1993)\n",
      "3  Lord of the Rings: The Fellowship of the Ring,...\n",
      "4      Sunset Blvd. (a.k.a. Sunset Boulevard) (1950)\n",
      "5                                 Rear Window (1954)\n",
      "6                                  Casablanca (1942)\n",
      "7                              Paths of Glory (1957)\n",
      "8                     Godfather: Part II, The (1974)\n",
      "9                                12 Angry Men (1957)\n"
     ]
    }
   ],
   "source": [
    "# Czas wykonania tej komórki u mnie na komputerze to około minuty\n",
    "from clustering import find_movies\n",
    "\n",
    "result = find_movies(number_of_movies, user_id)\n",
    "\n",
    "print(result)"
   ]
  },
  {
   "cell_type": "markdown",
   "metadata": {},
   "source": [
    "## Metoda 2"
   ]
  },
  {
   "cell_type": "code",
   "execution_count": 4,
   "metadata": {},
   "outputs": [],
   "source": [
    "# kod"
   ]
  },
  {
   "cell_type": "markdown",
   "metadata": {},
   "source": [
    "## Metoda 3"
   ]
  },
  {
   "cell_type": "code",
   "execution_count": 5,
   "metadata": {},
   "outputs": [],
   "source": [
    "# kod"
   ]
  },
  {
   "cell_type": "markdown",
   "metadata": {},
   "source": [
    "## Porównanie zwróconych wyników"
   ]
  },
  {
   "cell_type": "code",
   "execution_count": 6,
   "metadata": {},
   "outputs": [],
   "source": [
    "# Sprawdzenie gatunków polecanych filmów \n"
   ]
  }
 ],
 "metadata": {
  "kernelspec": {
   "display_name": "Python 3",
   "language": "python",
   "name": "python3"
  },
  "language_info": {
   "codemirror_mode": {
    "name": "ipython",
    "version": 3
   },
   "file_extension": ".py",
   "mimetype": "text/x-python",
   "name": "python",
   "nbconvert_exporter": "python",
   "pygments_lexer": "ipython3",
   "version": "3.11.5"
  }
 },
 "nbformat": 4,
 "nbformat_minor": 2
}
